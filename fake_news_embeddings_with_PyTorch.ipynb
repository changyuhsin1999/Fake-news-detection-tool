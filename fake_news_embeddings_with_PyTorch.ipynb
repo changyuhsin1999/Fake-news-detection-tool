{
  "nbformat": 4,
  "nbformat_minor": 0,
  "metadata": {
    "colab": {
      "provenance": [],
      "gpuType": "T4",
      "authorship_tag": "ABX9TyPHF9rKQiMwMcnkjy2jDIbM",
      "include_colab_link": true
    },
    "kernelspec": {
      "name": "python3",
      "display_name": "Python 3"
    },
    "language_info": {
      "name": "python"
    }
  },
  "cells": [
    {
      "cell_type": "markdown",
      "metadata": {
        "id": "view-in-github",
        "colab_type": "text"
      },
      "source": [
        "<a href=\"https://colab.research.google.com/github/changyuhsin1999/Fake_Medical_News_Detection_Tool/blob/main/fake_news_embeddings_with_PyTorch.ipynb\" target=\"_parent\"><img src=\"https://colab.research.google.com/assets/colab-badge.svg\" alt=\"Open In Colab\"/></a>"
      ]
    },
    {
      "cell_type": "code",
      "source": [
        "import os\n",
        "\n",
        "# Remove Colab default sample_data\n",
        "!rm -r ./sample_data\n",
        "\n",
        "# Clone GitHub files to colab workspace\n",
        "repo_name = \"Fake_Medical_News_Detection_Tool\" # Enter repo name\n",
        "git_path = 'https://github.com/changyuhsin1999/Fake_Medical_News_Detection_Tool.git'\n",
        "!git clone \"{git_path}\""
      ],
      "metadata": {
        "colab": {
          "base_uri": "https://localhost:8080/"
        },
        "id": "yHt73YHZwRHd",
        "outputId": "210fccdc-5e69-4d8f-c5f2-dc8bece8ed03"
      },
      "execution_count": 1,
      "outputs": [
        {
          "output_type": "stream",
          "name": "stdout",
          "text": [
            "Cloning into 'Fake_Medical_News_Detection_Tool'...\n",
            "remote: Enumerating objects: 50, done.\u001b[K\n",
            "remote: Counting objects: 100% (50/50), done.\u001b[K\n",
            "remote: Compressing objects: 100% (38/38), done.\u001b[K\n",
            "remote: Total 50 (delta 24), reused 27 (delta 10), pack-reused 0\u001b[K\n",
            "Unpacking objects: 100% (50/50), 4.28 MiB | 1.54 MiB/s, done.\n"
          ]
        }
      ]
    },
    {
      "cell_type": "code",
      "source": [
        "import os\n",
        "import numpy as np\n",
        "import pandas as pd\n",
        "import string\n",
        "import time\n",
        "import copy\n",
        "from sklearn.linear_model import LogisticRegression\n",
        "from sklearn.model_selection import train_test_split\n",
        "from sklearn.metrics import confusion_matrix\n",
        "from sklearn.metrics import accuracy_score\n",
        "import urllib.request\n",
        "import zipfile\n",
        "\n",
        "import torch\n",
        "from torchtext.data.utils import get_tokenizer\n",
        "from torchtext.vocab import build_vocab_from_iterator\n",
        "from torch.utils.data import DataLoader,TensorDataset\n",
        "from torch.utils.data.dataset import random_split\n",
        "from torchtext.data.functional import to_map_style_dataset\n",
        "from torch import nn\n",
        "\n",
        "import warnings\n",
        "warnings.filterwarnings('ignore')\n",
        "\n",
        "device = torch.device(\"cuda\" if torch.cuda.is_available() else \"cpu\")"
      ],
      "metadata": {
        "id": "Vu5TO0Sgwglv"
      },
      "execution_count": 2,
      "outputs": []
    },
    {
      "cell_type": "code",
      "source": [
        "raw_df = pd.read_csv('/content/Fake_Medical_News_Detection_Tool/data/data_raw.csv')\n",
        "raw_df = raw_df.dropna()\n",
        "raw_df['full_text'] = raw_df.apply(lambda x: ' '.join([x['title'],x['text']]),axis=1)\n",
        "labels=raw_df.label\n",
        "x_train,x_test,y_train,y_test=train_test_split(raw_df['full_text'], labels, test_size=0.2, random_state=7)"
      ],
      "metadata": {
        "id": "HYwolFj4pNzv"
      },
      "execution_count": 3,
      "outputs": []
    },
    {
      "cell_type": "code",
      "source": [
        "# Put data in iterator form needed to create PyTorch Datasets from data\n",
        "train_iter = [(label,text) for label,text in zip(y_train.to_list(),x_train.to_list())]\n",
        "test_iter = [(label,text) for label,text in zip(y_test.to_list(),x_test.to_list())]\n",
        "\n",
        "# Create PyTorch Datasets from iterators\n",
        "train_dataset = to_map_style_dataset(train_iter)\n",
        "test_dataset = to_map_style_dataset(test_iter)\n",
        "\n",
        "# Split training data to get a validation set\n",
        "num_train = int(len(train_dataset) * 0.95)\n",
        "split_train_dataset, split_valid_dataset = random_split(train_dataset, [num_train, len(train_dataset) - num_train])"
      ],
      "metadata": {
        "id": "TpnIQn-lp8ym"
      },
      "execution_count": 4,
      "outputs": []
    },
    {
      "cell_type": "code",
      "source": [
        "# Function to tokenize the text\n",
        "def yield_tokens(data_iter,tokenizer):\n",
        "    for _, text in data_iter:\n",
        "        yield tokenizer(text)\n",
        "\n",
        "# Build vocabulary from tokens of training set\n",
        "tokenizer = get_tokenizer('basic_english')\n",
        "vocab = build_vocab_from_iterator(yield_tokens(train_iter,tokenizer), specials=[\"<unk>\"])\n",
        "vocab.set_default_index(vocab[\"<unk>\"])\n",
        "\n",
        "# Define collate_batch function to get single collated tensor for batch in form needed by nn.EmbeddingBag\n",
        "def collate_batch(batch,tokenizer,vocab):\n",
        "    # Pipelines for processing text and labels\n",
        "    text_pipeline = lambda x: vocab(tokenizer(x))\n",
        "    label_pipeline = lambda x: int(x)\n",
        "\n",
        "    label_list, text_list, offsets = [], [], [0]\n",
        "    # Iterate through batch, processing text and adding text, labels and offsets to lists\n",
        "    for (label, text) in batch:\n",
        "        label_list.append(label_pipeline(label))\n",
        "        processed_text = torch.tensor(text_pipeline(text), dtype=torch.int64)\n",
        "        text_list.append(processed_text)\n",
        "        offsets.append(processed_text.size(0))\n",
        "    label_list = torch.tensor(label_list, dtype=torch.int64)\n",
        "    offsets = torch.tensor(offsets[:-1]).cumsum(dim=0)\n",
        "    text_list = torch.cat(text_list)\n",
        "    return label_list.to(device), text_list.to(device), offsets.to(device)"
      ],
      "metadata": {
        "id": "9sEheTI7rTc4"
      },
      "execution_count": 11,
      "outputs": []
    },
    {
      "cell_type": "code",
      "source": [
        "batch_size = 16\n",
        "# Create training, validation and test set DataLoaders using custom collate_batch function\n",
        "train_dataloader = DataLoader(split_train_dataset, batch_size=batch_size,\n",
        "                              shuffle=True, collate_fn = lambda x: collate_batch(x,tokenizer,vocab))\n",
        "val_dataloader = DataLoader(split_valid_dataset, batch_size=batch_size,\n",
        "                              shuffle=True, collate_fn = lambda x: collate_batch(x,tokenizer,vocab))\n",
        "test_dataloader = DataLoader(test_dataset, batch_size=batch_size,\n",
        "                             shuffle=True, collate_fn = lambda x: collate_batch(x,tokenizer,vocab))\n",
        "\n",
        "# Set up dict for dataloaders to use in training\n",
        "train_dataloaders = {'train':train_dataloader,'val':val_dataloader}\n",
        "\n",
        "# Store size of training and validation sets\n",
        "dataset_sizes = {'train':len(split_train_dataset),'val':len(split_valid_dataset)}"
      ],
      "metadata": {
        "id": "CEnB_EfdrYky"
      },
      "execution_count": 12,
      "outputs": []
    },
    {
      "cell_type": "code",
      "source": [
        "# Define the model\n",
        "class TextClassificationModel(nn.Module):\n",
        "\n",
        "    def __init__(self, vocab_size, embed_dim, num_class):\n",
        "        super(TextClassificationModel, self).__init__()\n",
        "        # Embedding layer\n",
        "        self.embedding = nn.EmbeddingBag(vocab_size, embed_dim, mode=\"mean\",sparse=True)\n",
        "        # Fully connected final layer to convert embeddings to output predictions\n",
        "        self.fc = nn.Linear(embed_dim, num_class)\n",
        "        self.init_weights()\n",
        "\n",
        "    def init_weights(self):\n",
        "        initrange = 0.5\n",
        "        self.embedding.weight.data.uniform_(-initrange, initrange)\n",
        "        self.fc.weight.data.uniform_(-initrange, initrange)\n",
        "        self.fc.bias.data.zero_()\n",
        "\n",
        "    def forward(self, text, offsets):\n",
        "        embedded = self.embedding(text, offsets)\n",
        "        return self.fc(embedded)"
      ],
      "metadata": {
        "id": "nUL9eCb_rgyu"
      },
      "execution_count": 13,
      "outputs": []
    },
    {
      "cell_type": "code",
      "source": [
        "def train_model(model, criterion, optimizer, dataloaders, dataset_sizes, scheduler, device, num_epochs=5):\n",
        "    device = torch.device(\"cuda\" if torch.cuda.is_available() else \"cpu\")\n",
        "    dataset_sizes = {'train':len(split_train_dataset),'val':len(split_valid_dataset)}\n",
        "    model = model.to(device) # Send model to GPU if available\n",
        "    since = time.time()\n",
        "\n",
        "    best_model_wts = copy.deepcopy(model.state_dict())\n",
        "    best_acc = 0.0\n",
        "\n",
        "    for epoch in range(num_epochs):\n",
        "        print('Epoch {}/{}'.format(epoch, num_epochs - 1))\n",
        "        print('-' * 10)\n",
        "\n",
        "        # Each epoch has a training and validation phase\n",
        "        for phase in ['train', 'val']:\n",
        "            if phase == 'train':\n",
        "                model.train()  # Set model to training mode\n",
        "            else:\n",
        "                model.eval()   # Set model to evaluate mode\n",
        "\n",
        "            running_loss = 0.0\n",
        "            running_corrects = 0\n",
        "\n",
        "            # Get the input images and labels, and send to GPU if available\n",
        "            for (labels, text, offsets) in dataloaders[phase]:\n",
        "                text = text.to(device)\n",
        "                labels = labels.to(device)\n",
        "                offsets = offsets.to(device)\n",
        "\n",
        "                # Zero the weight gradients\n",
        "                optimizer.zero_grad()\n",
        "\n",
        "                # Forward pass to get outputs and calculate loss\n",
        "                # Track gradient only for training data\n",
        "                with torch.set_grad_enabled(phase == 'train'):\n",
        "                    outputs = model.forward(text,offsets)\n",
        "                    loss = criterion(outputs, labels)\n",
        "\n",
        "                    # Backpropagation to get the gradients with respect to each weight\n",
        "                    # Only if in train\n",
        "                    if phase == 'train':\n",
        "                        loss.backward()\n",
        "                        # Update the weights\n",
        "                        optimizer.step()\n",
        "\n",
        "                # Convert loss into a scalar and add it to running_loss\n",
        "                running_loss += loss.item() * labels.size(0)\n",
        "                # Track number of correct predictions\n",
        "                _, preds = torch.max(outputs, 1)\n",
        "                running_corrects += torch.sum(preds == labels.data)\n",
        "\n",
        "            # Step along learning rate scheduler when in train\n",
        "            if phase == 'train':\n",
        "                scheduler.step()\n",
        "\n",
        "            # Calculate and display average loss and accuracy for the epoch\n",
        "            epoch_loss = running_loss / dataset_sizes[phase]\n",
        "            epoch_acc = running_corrects.double() / dataset_sizes[phase]\n",
        "            print('{} loss: {:.4f} accuracy: {:.4f}'.format(phase, epoch_loss, epoch_acc))\n",
        "\n",
        "            # If model performs better on val set, save weights as the best model\n",
        "            if phase == 'val' and epoch_acc > best_acc:\n",
        "                best_acc = epoch_acc\n",
        "                best_model_wts = copy.deepcopy(model.state_dict())\n",
        "\n",
        "        print()\n",
        "\n",
        "    time_elapsed = time.time() - since\n",
        "    print('Training complete in {:.0f}m {:.0f}s'.format(\n",
        "        time_elapsed // 60, time_elapsed % 60))\n",
        "    print('Best validation set accuracy: {:3f}'.format(best_acc))\n",
        "\n",
        "    # Load the weights from best model\n",
        "    model.load_state_dict(best_model_wts)\n",
        "\n",
        "    return model"
      ],
      "metadata": {
        "id": "iIZcs97BrmjG"
      },
      "execution_count": 14,
      "outputs": []
    },
    {
      "cell_type": "code",
      "source": [
        "# Instantiate the model\n",
        "num_classes = 2\n",
        "vocab_size = len(vocab)\n",
        "embed_dim = 64 # Set desired document embedding size\n",
        "nn_model = TextClassificationModel(vocab_size, embed_dim, num_classes)\n",
        "\n",
        "# Set hyperparameters\n",
        "epochs = 10 # epoch\n",
        "learning_rate = 1.  # learning rate\n",
        "\n",
        "# Define loss function and optimizer\n",
        "criterion = torch.nn.CrossEntropyLoss()\n",
        "optimizer = torch.optim.SGD(nn_model.parameters(), lr=learning_rate)\n",
        "\n",
        "lr_scheduler = torch.optim.lr_scheduler.StepLR(optimizer, 1 , gamma=0.8)\n",
        "\n",
        "# Train the model\n",
        "nn_model = train_model(nn_model, criterion, optimizer, train_dataloaders,dataset_sizes, lr_scheduler, device, num_epochs=10)"
      ],
      "metadata": {
        "colab": {
          "base_uri": "https://localhost:8080/"
        },
        "id": "ddRSOAh-rr9H",
        "outputId": "b7e991c9-437f-42ea-d5a2-f3fd0a0d2924"
      },
      "execution_count": 16,
      "outputs": [
        {
          "output_type": "stream",
          "name": "stdout",
          "text": [
            "Epoch 0/9\n",
            "----------\n",
            "train loss: 0.3005 accuracy: 0.8854\n",
            "val loss: 0.1174 accuracy: 0.9766\n",
            "\n",
            "Epoch 1/9\n",
            "----------\n",
            "train loss: 0.0771 accuracy: 0.9880\n",
            "val loss: 0.0569 accuracy: 0.9922\n",
            "\n",
            "Epoch 2/9\n",
            "----------\n",
            "train loss: 0.0436 accuracy: 0.9946\n",
            "val loss: 0.0418 accuracy: 0.9922\n",
            "\n",
            "Epoch 3/9\n",
            "----------\n",
            "train loss: 0.0323 accuracy: 0.9954\n",
            "val loss: 0.0361 accuracy: 0.9922\n",
            "\n",
            "Epoch 4/9\n",
            "----------\n",
            "train loss: 0.0268 accuracy: 0.9963\n",
            "val loss: 0.0337 accuracy: 0.9922\n",
            "\n",
            "Epoch 5/9\n",
            "----------\n",
            "train loss: 0.0236 accuracy: 0.9971\n",
            "val loss: 0.0318 accuracy: 0.9922\n",
            "\n",
            "Epoch 6/9\n",
            "----------\n",
            "train loss: 0.0215 accuracy: 0.9971\n",
            "val loss: 0.0315 accuracy: 0.9922\n",
            "\n",
            "Epoch 7/9\n",
            "----------\n",
            "train loss: 0.0201 accuracy: 0.9971\n",
            "val loss: 0.0304 accuracy: 0.9922\n",
            "\n",
            "Epoch 8/9\n",
            "----------\n",
            "train loss: 0.0191 accuracy: 0.9971\n",
            "val loss: 0.0297 accuracy: 0.9922\n",
            "\n",
            "Epoch 9/9\n",
            "----------\n",
            "train loss: 0.0184 accuracy: 0.9971\n",
            "val loss: 0.0294 accuracy: 0.9922\n",
            "\n",
            "Training complete in 0m 20s\n",
            "Best validation set accuracy: 0.992188\n"
          ]
        }
      ]
    }
  ]
}