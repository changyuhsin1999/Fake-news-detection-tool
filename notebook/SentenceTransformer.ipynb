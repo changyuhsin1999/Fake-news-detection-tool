{
  "nbformat": 4,
  "nbformat_minor": 0,
  "metadata": {
    "colab": {
      "provenance": [],
      "machine_shape": "hm",
      "gpuType": "T4",
      "authorship_tag": "ABX9TyPHDsz4hCVq2wIGUH32k0hw",
      "include_colab_link": true
    },
    "kernelspec": {
      "name": "python3",
      "display_name": "Python 3"
    },
    "language_info": {
      "name": "python"
    },
    "accelerator": "GPU"
  },
  "cells": [
    {
      "cell_type": "markdown",
      "metadata": {
        "id": "view-in-github",
        "colab_type": "text"
      },
      "source": [
        "<a href=\"https://colab.research.google.com/github/changyuhsin1999/Fake_Medical_News_Detection_Tool/blob/main/SentenceTransformer.ipynb\" target=\"_parent\"><img src=\"https://colab.research.google.com/assets/colab-badge.svg\" alt=\"Open In Colab\"/></a>"
      ]
    },
    {
      "cell_type": "code",
      "execution_count": 1,
      "metadata": {
        "colab": {
          "base_uri": "https://localhost:8080/"
        },
        "id": "Yh6fNRZFGwob",
        "outputId": "2d518f98-982b-4516-c5aa-efb7bd4d41cc"
      },
      "outputs": [
        {
          "output_type": "stream",
          "name": "stdout",
          "text": [
            "Cloning into 'Fake_Medical_News_Detection_Tool'...\n",
            "remote: Enumerating objects: 177, done.\u001b[K\n",
            "remote: Counting objects: 100% (17/17), done.\u001b[K\n",
            "remote: Compressing objects: 100% (17/17), done.\u001b[K\n",
            "remote: Total 177 (delta 9), reused 0 (delta 0), pack-reused 160\u001b[K\n",
            "Receiving objects: 100% (177/177), 5.03 MiB | 3.75 MiB/s, done.\n",
            "Resolving deltas: 100% (83/83), done.\n"
          ]
        }
      ],
      "source": [
        "import os\n",
        "\n",
        "# Remove Colab default sample_data\n",
        "!rm -r ./sample_data\n",
        "\n",
        "# Clone GitHub files to colab workspace\n",
        "repo_name = \"Fake_Medical_News_Detection_Tool\" # Enter repo name\n",
        "git_path = 'https://github.com/changyuhsin1999/Fake_Medical_News_Detection_Tool.git'\n",
        "!git clone \"{git_path}\""
      ]
    },
    {
      "cell_type": "code",
      "source": [
        "import os\n",
        "import numpy as np\n",
        "import pandas as pd\n",
        "import string\n",
        "import time\n",
        "import urllib.request\n",
        "import zipfile\n",
        "import torch\n",
        "\n",
        "from sklearn.linear_model import LogisticRegression\n",
        "from sklearn.model_selection import train_test_split\n",
        "#!pip install sentence_transformers\n",
        "from sentence_transformers import SentenceTransformer\n",
        "\n",
        "import warnings\n",
        "warnings.filterwarnings('ignore')\n",
        "\n",
        "device = torch.device(\"cuda\" if torch.cuda.is_available() else \"cpu\")"
      ],
      "metadata": {
        "id": "6Q5kcZIOHbRQ"
      },
      "execution_count": 4,
      "outputs": []
    },
    {
      "cell_type": "code",
      "source": [
        "raw_df = pd.read_csv('/content/Fake_Medical_News_Detection_Tool/data/raw_df.csv')\n",
        "labels=raw_df.label\n",
        "x_train,x_test,y_train,y_test=train_test_split(raw_df['full_text'], labels, test_size=0.2, random_state=7)"
      ],
      "metadata": {
        "id": "BLhg315QIBRa"
      },
      "execution_count": 7,
      "outputs": []
    },
    {
      "cell_type": "code",
      "source": [
        "senttrans_model = SentenceTransformer('all-MiniLM-L6-v2',device=device)\n",
        "\n",
        "# Create embeddings for training set text\n",
        "X_train = x_train.values.tolist()\n",
        "X_train = [senttrans_model.encode(doc) for doc in X_train]\n",
        "\n",
        "# Create embeddings for test set text\n",
        "X_test = x_test.values.tolist()\n",
        "X_test = [senttrans_model.encode(doc) for doc in X_test]"
      ],
      "metadata": {
        "id": "7Mh3h54qIiQM"
      },
      "execution_count": 9,
      "outputs": []
    },
    {
      "cell_type": "code",
      "source": [
        "logreg_model = LogisticRegression(solver='saga')\n",
        "logreg_model.fit(X_train,y_train)\n",
        "preds = logreg_model.predict(X_train)\n",
        "acc = sum(preds==y_train)/len(y_train)\n",
        "print('Accuracy on the training set is {:.3f}'.format(acc))"
      ],
      "metadata": {
        "colab": {
          "base_uri": "https://localhost:8080/"
        },
        "id": "qlx4q4nmJl6V",
        "outputId": "311fb91c-bfba-4d3f-87a5-a766c53fd527"
      },
      "execution_count": 10,
      "outputs": [
        {
          "output_type": "stream",
          "name": "stdout",
          "text": [
            "Accuracy on the training set is 0.994\n"
          ]
        }
      ]
    },
    {
      "cell_type": "code",
      "source": [
        "preds = logreg_model.predict(X_test)\n",
        "acc = sum(preds==y_test)/len(y_test)\n",
        "print('Accuracy on the test set is {:.3f}'.format(acc))"
      ],
      "metadata": {
        "colab": {
          "base_uri": "https://localhost:8080/"
        },
        "id": "wNQlAy1HJthE",
        "outputId": "a1c67a18-2351-4599-a29b-05143bb7ca0c"
      },
      "execution_count": 11,
      "outputs": [
        {
          "output_type": "stream",
          "name": "stdout",
          "text": [
            "Accuracy on the test set is 0.992\n"
          ]
        }
      ]
    }
  ]
}
